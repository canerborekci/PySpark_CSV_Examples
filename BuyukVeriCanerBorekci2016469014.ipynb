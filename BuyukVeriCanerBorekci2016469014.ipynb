{
  "nbformat": 4,
  "nbformat_minor": 0,
  "metadata": {
    "colab": {
      "name": "BuyukVeriCanerBorekci2016469014.ipynb",
      "provenance": [],
      "authorship_tag": "ABX9TyNN3IXYaeVZ1CCduedFx9Au",
      "include_colab_link": true
    },
    "kernelspec": {
      "name": "python3",
      "display_name": "Python 3"
    }
  },
  "cells": [
    {
      "cell_type": "markdown",
      "metadata": {
        "id": "view-in-github",
        "colab_type": "text"
      },
      "source": [
        "<a href=\"https://colab.research.google.com/github/canerborekci/PySpark_CSV_Examples/blob/main/BuyukVeriCanerBorekci2016469014.ipynb\" target=\"_parent\"><img src=\"https://colab.research.google.com/assets/colab-badge.svg\" alt=\"Open In Colab\"/></a>"
      ]
    },
    {
      "cell_type": "markdown",
      "metadata": {
        "id": "Xqy6aVzXRDUB"
      },
      "source": [
        "# ***APACHE SPARKI COLAB ORTAMINA KURMA***"
      ]
    },
    {
      "cell_type": "markdown",
      "metadata": {
        "id": "Rr9ZgTPQNNNf"
      },
      "source": [
        "Colab ortamında çalışmak için gerekli işlemleri yapıyoruz"
      ]
    },
    {
      "cell_type": "code",
      "metadata": {
        "id": "3K2iNY2bvYXj"
      },
      "source": [
        "!apt-get install openjdk-8-jdk-headless -qq > /dev/null\r\n",
        "!wget -q ftp://ftp.itu.edu.tr/Mirror/Apache/spark/spark-3.0.1/spark-3.0.1-bin-hadoop2.7.tgz\r\n",
        "!tar xf spark-3.0.1-bin-hadoop2.7.tgz\r\n",
        "!pip install -q findspark"
      ],
      "execution_count": 11,
      "outputs": []
    },
    {
      "cell_type": "code",
      "metadata": {
        "id": "2RKqIqDpwRLW"
      },
      "source": [
        "import os\r\n",
        "os.environ[\"JAVA_HOME\"] = \"/usr/lib/jvm/java-8-openjdk-amd64\"\r\n",
        "os.environ[\"SPARK_HOME\"] = \"/content/spark-3.0.1-bin-hadoop2.7\""
      ],
      "execution_count": 12,
      "outputs": []
    },
    {
      "cell_type": "code",
      "metadata": {
        "id": "Q9afmF2UwbZy"
      },
      "source": [
        "import findspark\r\n",
        "findspark.init()\r\n",
        "from pyspark.sql import SparkSession\r\n",
        "spark = SparkSession.builder.master(\"local[*]\").getOrCreate()"
      ],
      "execution_count": 13,
      "outputs": []
    },
    {
      "cell_type": "markdown",
      "metadata": {
        "id": "Pg8Oyho6RNK8"
      },
      "source": [
        "# ***CSV Dosyasını Yükleme***"
      ]
    },
    {
      "cell_type": "markdown",
      "metadata": {
        "id": "bXGi1BrINZWs"
      },
      "source": [
        "CSV dosyamızı tanıtmak için Colab'ın files kütüphanesini import ediyoruz ve csv dosyasını cihazdan upload ediyoruz."
      ]
    },
    {
      "cell_type": "code",
      "metadata": {
        "id": "B9OdFqBQxA5A"
      },
      "source": [
        "from google.colab import files"
      ],
      "execution_count": 14,
      "outputs": []
    },
    {
      "cell_type": "code",
      "metadata": {
        "colab": {
          "resources": {
            "http://localhost:8080/nbextensions/google.colab/files.js": {
              "data": "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",
              "ok": true,
              "headers": [
                [
                  "content-type",
                  "application/javascript"
                ]
              ],
              "status": 200,
              "status_text": ""
            }
          },
          "base_uri": "https://localhost:8080/",
          "height": 70
        },
        "id": "1fSA2zANxCDq",
        "outputId": "2aaecfc4-605a-4f54-9ce9-505ee1c2169a"
      },
      "source": [
        "uploaded = files.upload()  "
      ],
      "execution_count": 25,
      "outputs": [
        {
          "output_type": "display_data",
          "data": {
            "text/html": [
              "\n",
              "     <input type=\"file\" id=\"files-aa0f9049-3ce2-4c12-a08d-a27cf083cb69\" name=\"files[]\" multiple disabled\n",
              "        style=\"border:none\" />\n",
              "     <output id=\"result-aa0f9049-3ce2-4c12-a08d-a27cf083cb69\">\n",
              "      Upload widget is only available when the cell has been executed in the\n",
              "      current browser session. Please rerun this cell to enable.\n",
              "      </output>\n",
              "      <script src=\"/nbextensions/google.colab/files.js\"></script> "
            ],
            "text/plain": [
              "<IPython.core.display.HTML object>"
            ]
          },
          "metadata": {
            "tags": []
          }
        },
        {
          "output_type": "stream",
          "text": [
            "Saving turkey_car_market.csv to turkey_car_market.csv\n"
          ],
          "name": "stdout"
        }
      ]
    },
    {
      "cell_type": "markdown",
      "metadata": {
        "id": "BpYPSouoN-JA"
      },
      "source": [
        "Dataset adında bir dataframe oluşturup bu değişkene Sparka okuttuğum CSV dosyasının değerlerini atıyorum. \r\n",
        "Header=True yapmamın amacı ilk satırı tablonun değişkenleri değil tablonun bir değeri olarak alması."
      ]
    },
    {
      "cell_type": "code",
      "metadata": {
        "id": "ordoQ1Ce0xTL"
      },
      "source": [
        "dataset=spark.read.csv(\"turkey_car_market.csv\",header=True)"
      ],
      "execution_count": 44,
      "outputs": []
    },
    {
      "cell_type": "markdown",
      "metadata": {
        "id": "d0wuuRqYRk3L"
      },
      "source": [
        "# ***VERİ ÖNİŞLEME***"
      ]
    },
    {
      "cell_type": "code",
      "metadata": {
        "colab": {
          "base_uri": "https://localhost:8080/"
        },
        "id": "mG2gH9lLDRdE",
        "outputId": "2e6472b0-c664-4748-9efe-704f554873b3"
      },
      "source": [
        "dataset.show()"
      ],
      "execution_count": 107,
      "outputs": [
        {
          "output_type": "stream",
          "text": [
            "+-----------+------+--------------+-------------------+---------+----------+-------------------+---------------+--------------+-----------+----------------+----------+-----+------+------+\n",
            "|İlan Tarihi| Marka|Arac Tip Grubu|           Arac Tip|Model Yıl|Yakıt Turu|              Vites|            CCM|   Beygir Gucu|       Renk|       Kasa Tipi|    Kimden|Durum|    Km| Fiyat|\n",
            "+-----------+------+--------------+-------------------+---------+----------+-------------------+---------------+--------------+-----------+----------------+----------+-----+------+------+\n",
            "| 27/05/2020|Jaguar|            XF|2.0 D Prestige Plus|   2017.0|     Dizel|     Otomatik Vites|   1801-2000 cc|    176-200 BG|  Lacivert |Hatchback 5 Kapı| Galeriden|2. El| 26100|634500|\n",
            "| 16/06/2020| Acura|            CL|                  -|   2015.0|     Dizel|Yarı Otomatik Vites|   1301-1600 cc|    101-125 BG|      Mavi |           Sedan|Sahibinden|2. El|127000|151500|\n",
            "| 14/06/2020| Acura|            CL|                2.2|   1994.0|Benzin/LPG|          Düz Vites|   1301-1600 cc|    101-125 BG|   Turkuaz |           Sedan|Sahibinden|2. El|175000| 19750|\n",
            "| 11/06/2020| Acura|            CL|                  -|   2013.0|     Dizel|          Düz Vites|   1301-1600 cc|     76-100 BG|Kahverengi |           Sedan|Sahibinden|2. El|   325| 52000|\n",
            "| 11/06/2020| Acura|            CL|                2.2|   2010.0|     Dizel|     Otomatik Vites|   1801-2000 cc|    151-175 BG|     Beyaz |           Sedan|Sahibinden|2. El|207000|148750|\n",
            "| 04/06/2020| Acura|            CL|                2.2|   1999.0|     Dizel|          Düz Vites|   1801-2000 cc|    101-125 BG|  Lacivert |        Roadster| Galeriden|2. El|320000| 42500|\n",
            "| 03/06/2020| Acura|            CL|                2.2|   2014.0|     Dizel|     Otomatik Vites|   1301-1600 cc|    101-125 BG|   Kırmızı |           Sedan| Galeriden|2. El|   183|170000|\n",
            "| 02/06/2020| Acura|            CL|                  -|   2014.0|     Dizel|          Düz Vites|   1301-1600 cc|     76-100 BG|     Beyaz |Hatchback 5 Kapı|Sahibinden|2. El| 79000| 82500|\n",
            "| 29/05/2020| Acura|           RSX|             Type-S|   2019.0|    Hibrit|     Otomatik Vites|   1601-1800 cc|100 BG ve altı|     Beyaz |           Sedan|   Yetkili| 0 km| 15662|189000|\n",
            "| 29/05/2020| Acura|           RSX|             Type-S|   2019.0|    Hibrit|     Otomatik Vites|   1601-1800 cc|100 BG ve altı|       Gri |           Sedan|   Yetkili| 0 km| 31971|189000|\n",
            "| 24/05/2020| Acura|            CL|                  -|   2001.0|Benzin/LPG|          Düz Vites|   1301-1600 cc|    101-125 BG|     Siyah |Hatchback 5 Kapı|Sahibinden|2. El|252000| 36750|\n",
            "| 08/05/2020| Acura|            CL|                  -|   2010.0|     Dizel|          Düz Vites|1300 cc ve altı|     76-100 BG|       Gri |           Sedan| Galeriden|2. El|232000| 52000|\n",
            "| 07/05/2020| Acura|            CL|                  -|   2014.0|     Dizel|          Düz Vites|   1301-1600 cc|     76-100 BG|     Siyah |Hatchback 5 Kapı|Sahibinden|2. El|168000| 84000|\n",
            "| 27/04/2020| Acura|            CL|                  -|   2004.0|     Dizel|          Düz Vites|   1301-1600 cc|     76-100 BG|     Beyaz |Hatchback 5 Kapı| Galeriden|2. El|230000| 32000|\n",
            "| 27/04/2020| Acura|            CL|                  -|   2004.0|Benzin/LPG|          Düz Vites|   1301-1600 cc|    101-125 BG|  Lacivert |           Sedan|Sahibinden|2. El| 18000| 34500|\n",
            "| 24/04/2020| Acura|            CL|                  -|   2012.0|     Dizel|     Otomatik Vites|   1801-2000 cc|    201-225 BG|     Siyah |           Sedan| Galeriden|2. El|249000|235000|\n",
            "| 23/04/2020| Acura|            CL|                  -|   2017.0|     Dizel|Yarı Otomatik Vites|   1301-1600 cc|     76-100 BG|      Füme |Hatchback 5 Kapı| Galeriden|2. El| 70000| 97500|\n",
            "| 23/04/2020| Acura|            CL|                  -|   2013.0|     Dizel|     Otomatik Vites|   1801-2000 cc|    176-200 BG|     Siyah |           Sedan| Galeriden|2. El|210000|234900|\n",
            "| 21/04/2020| Acura|            CL|                  -|   2004.0|Benzin/LPG|          Düz Vites|   1601-1800 cc|    126-150 BG|Kahverengi |           Sedan|Sahibinden|2. El|240000| 50000|\n",
            "| 08/04/2020|  Jeep|      Wrangler|            2.8 CRD|   2014.0|     Dizel|     Otomatik Vites|   2501-3000 cc|    126-150 BG|     Siyah |     Arazi Aracı| Galeriden|2. El| 54000|457500|\n",
            "+-----------+------+--------------+-------------------+---------+----------+-------------------+---------------+--------------+-----------+----------------+----------+-----+------+------+\n",
            "only showing top 20 rows\n",
            "\n"
          ],
          "name": "stdout"
        }
      ]
    },
    {
      "cell_type": "code",
      "metadata": {
        "colab": {
          "base_uri": "https://localhost:8080/"
        },
        "id": "TsabsKk1Hj5j",
        "outputId": "6b2df1ff-2d82-4f1b-ce15-3bc56da10372"
      },
      "source": [
        "dataset.printSchema()"
      ],
      "execution_count": 46,
      "outputs": [
        {
          "output_type": "stream",
          "text": [
            "root\n",
            " |-- İlan Tarihi: string (nullable = true)\n",
            " |-- Marka: string (nullable = true)\n",
            " |-- Arac Tip Grubu: string (nullable = true)\n",
            " |-- Arac Tip: string (nullable = true)\n",
            " |-- Model Yıl: string (nullable = true)\n",
            " |-- Yakıt Turu: string (nullable = true)\n",
            " |-- Vites: string (nullable = true)\n",
            " |-- CCM: string (nullable = true)\n",
            " |-- Beygir Gucu: string (nullable = true)\n",
            " |-- Renk: string (nullable = true)\n",
            " |-- Kasa Tipi: string (nullable = true)\n",
            " |-- Kimden: string (nullable = true)\n",
            " |-- Durum: string (nullable = true)\n",
            " |-- Km: string (nullable = true)\n",
            " |-- Fiyat: string (nullable = true)\n",
            "\n"
          ],
          "name": "stdout"
        }
      ]
    },
    {
      "cell_type": "markdown",
      "metadata": {
        "id": "S7NVXWVYOzBv"
      },
      "source": [
        "Verilerle işlem yapacağım için daha sonrasında ilk oluşturduğum dataset dataframe'i ile karşılaştırma yapma ihtimalime karşın dataset2 adında bir dataframe değer olarak atıyorum csv dosyasını."
      ]
    },
    {
      "cell_type": "markdown",
      "metadata": {
        "id": "G-955gymoftk"
      },
      "source": [
        "Sql sorguları yapabilmek adına kolon isimlerindeki boşlukları sql sorguları algılayamayacağı için schema özelliği kullanılarak kolon isimleri ve data tiplerini düzenliyorum."
      ]
    },
    {
      "cell_type": "code",
      "metadata": {
        "id": "HKO_6BWHn8ZK"
      },
      "source": [
        "from pyspark.sql.types import *"
      ],
      "execution_count": 146,
      "outputs": []
    },
    {
      "cell_type": "code",
      "metadata": {
        "id": "6w5V9-W4nXN5"
      },
      "source": [
        "Schema = StructType([ StructField(\"ilantarihi\", StringType(), True),\r\n",
        "                      StructField(\"marka\", StringType(), True),\r\n",
        "                      StructField(\"aractipgrup\", StringType(), True),\r\n",
        "                      StructField(\"aractip\", StringType(), True),\r\n",
        "                      StructField(\"modelyil\", DoubleType(), True),\r\n",
        "                      StructField(\"yakitturu\", StringType(), True),\r\n",
        "                     StructField(\"vites\", StringType(), True),\r\n",
        "                     StructField(\"ccm\", StringType(), True),\r\n",
        "                     StructField(\"beygir_gucu\", StringType(), True),\r\n",
        "                     StructField(\"renk\", StringType(), True),\r\n",
        "                     StructField(\"kasa_tipi\", StringType(), True),\r\n",
        "                     StructField(\"kimden\", StringType(), True),\r\n",
        "                     StructField(\"durum\", StringType(), True),\r\n",
        "                     StructField(\"km\", IntegerType(), True),\r\n",
        "                     StructField(\"fiyat\", IntegerType(), True),\r\n",
        "                    ])"
      ],
      "execution_count": 147,
      "outputs": []
    },
    {
      "cell_type": "code",
      "metadata": {
        "id": "66kv02ILIS08"
      },
      "source": [
        "dataset2=spark.read.csv(\"turkey_car_market.csv\",header=True, schema=Schema)"
      ],
      "execution_count": 148,
      "outputs": []
    },
    {
      "cell_type": "markdown",
      "metadata": {
        "id": "pcaD5rhZo2TQ"
      },
      "source": [
        "Artık kolon isimleri ve data tipleri belirlediğimiz gibi."
      ]
    },
    {
      "cell_type": "code",
      "metadata": {
        "colab": {
          "base_uri": "https://localhost:8080/"
        },
        "id": "-pAEC5c9br9F",
        "outputId": "71016983-482e-408f-b233-3a689c8fb903"
      },
      "source": [
        "dataset2.show()"
      ],
      "execution_count": 149,
      "outputs": [
        {
          "output_type": "stream",
          "text": [
            "+----------+------+-----------+-------------------+--------+----------+-------------------+---------------+--------------+-----------+----------------+----------+-----+------+------+\n",
            "|ilantarihi| marka|aractipgrup|            aractip|modelyil| yakitturu|              vites|            ccm|   beygir_gucu|       renk|       kasa_tipi|    kimden|durum|    km| fiyat|\n",
            "+----------+------+-----------+-------------------+--------+----------+-------------------+---------------+--------------+-----------+----------------+----------+-----+------+------+\n",
            "|27/05/2020|Jaguar|         XF|2.0 D Prestige Plus|  2017.0|     Dizel|     Otomatik Vites|   1801-2000 cc|    176-200 BG|  Lacivert |Hatchback 5 Kapı| Galeriden|2. El| 26100|634500|\n",
            "|16/06/2020| Acura|         CL|                  -|  2015.0|     Dizel|Yarı Otomatik Vites|   1301-1600 cc|    101-125 BG|      Mavi |           Sedan|Sahibinden|2. El|127000|151500|\n",
            "|14/06/2020| Acura|         CL|                2.2|  1994.0|Benzin/LPG|          Düz Vites|   1301-1600 cc|    101-125 BG|   Turkuaz |           Sedan|Sahibinden|2. El|175000| 19750|\n",
            "|11/06/2020| Acura|         CL|                  -|  2013.0|     Dizel|          Düz Vites|   1301-1600 cc|     76-100 BG|Kahverengi |           Sedan|Sahibinden|2. El|   325| 52000|\n",
            "|11/06/2020| Acura|         CL|                2.2|  2010.0|     Dizel|     Otomatik Vites|   1801-2000 cc|    151-175 BG|     Beyaz |           Sedan|Sahibinden|2. El|207000|148750|\n",
            "|04/06/2020| Acura|         CL|                2.2|  1999.0|     Dizel|          Düz Vites|   1801-2000 cc|    101-125 BG|  Lacivert |        Roadster| Galeriden|2. El|320000| 42500|\n",
            "|03/06/2020| Acura|         CL|                2.2|  2014.0|     Dizel|     Otomatik Vites|   1301-1600 cc|    101-125 BG|   Kırmızı |           Sedan| Galeriden|2. El|   183|170000|\n",
            "|02/06/2020| Acura|         CL|                  -|  2014.0|     Dizel|          Düz Vites|   1301-1600 cc|     76-100 BG|     Beyaz |Hatchback 5 Kapı|Sahibinden|2. El| 79000| 82500|\n",
            "|29/05/2020| Acura|        RSX|             Type-S|  2019.0|    Hibrit|     Otomatik Vites|   1601-1800 cc|100 BG ve altı|     Beyaz |           Sedan|   Yetkili| 0 km| 15662|189000|\n",
            "|29/05/2020| Acura|        RSX|             Type-S|  2019.0|    Hibrit|     Otomatik Vites|   1601-1800 cc|100 BG ve altı|       Gri |           Sedan|   Yetkili| 0 km| 31971|189000|\n",
            "|24/05/2020| Acura|         CL|                  -|  2001.0|Benzin/LPG|          Düz Vites|   1301-1600 cc|    101-125 BG|     Siyah |Hatchback 5 Kapı|Sahibinden|2. El|252000| 36750|\n",
            "|08/05/2020| Acura|         CL|                  -|  2010.0|     Dizel|          Düz Vites|1300 cc ve altı|     76-100 BG|       Gri |           Sedan| Galeriden|2. El|232000| 52000|\n",
            "|07/05/2020| Acura|         CL|                  -|  2014.0|     Dizel|          Düz Vites|   1301-1600 cc|     76-100 BG|     Siyah |Hatchback 5 Kapı|Sahibinden|2. El|168000| 84000|\n",
            "|27/04/2020| Acura|         CL|                  -|  2004.0|     Dizel|          Düz Vites|   1301-1600 cc|     76-100 BG|     Beyaz |Hatchback 5 Kapı| Galeriden|2. El|230000| 32000|\n",
            "|27/04/2020| Acura|         CL|                  -|  2004.0|Benzin/LPG|          Düz Vites|   1301-1600 cc|    101-125 BG|  Lacivert |           Sedan|Sahibinden|2. El| 18000| 34500|\n",
            "|24/04/2020| Acura|         CL|                  -|  2012.0|     Dizel|     Otomatik Vites|   1801-2000 cc|    201-225 BG|     Siyah |           Sedan| Galeriden|2. El|249000|235000|\n",
            "|23/04/2020| Acura|         CL|                  -|  2017.0|     Dizel|Yarı Otomatik Vites|   1301-1600 cc|     76-100 BG|      Füme |Hatchback 5 Kapı| Galeriden|2. El| 70000| 97500|\n",
            "|23/04/2020| Acura|         CL|                  -|  2013.0|     Dizel|     Otomatik Vites|   1801-2000 cc|    176-200 BG|     Siyah |           Sedan| Galeriden|2. El|210000|234900|\n",
            "|21/04/2020| Acura|         CL|                  -|  2004.0|Benzin/LPG|          Düz Vites|   1601-1800 cc|    126-150 BG|Kahverengi |           Sedan|Sahibinden|2. El|240000| 50000|\n",
            "|08/04/2020|  Jeep|   Wrangler|            2.8 CRD|  2014.0|     Dizel|     Otomatik Vites|   2501-3000 cc|    126-150 BG|     Siyah |     Arazi Aracı| Galeriden|2. El| 54000|457500|\n",
            "+----------+------+-----------+-------------------+--------+----------+-------------------+---------------+--------------+-----------+----------------+----------+-----+------+------+\n",
            "only showing top 20 rows\n",
            "\n"
          ],
          "name": "stdout"
        }
      ]
    },
    {
      "cell_type": "code",
      "metadata": {
        "colab": {
          "base_uri": "https://localhost:8080/"
        },
        "id": "3XyAyw1om5sJ",
        "outputId": "d0619852-b1ea-44fe-cf95-d42174f7c7f9"
      },
      "source": [
        "dataset2.printSchema()"
      ],
      "execution_count": 150,
      "outputs": [
        {
          "output_type": "stream",
          "text": [
            "root\n",
            " |-- ilantarihi: string (nullable = true)\n",
            " |-- marka: string (nullable = true)\n",
            " |-- aractipgrup: string (nullable = true)\n",
            " |-- aractip: string (nullable = true)\n",
            " |-- modelyil: double (nullable = true)\n",
            " |-- yakitturu: string (nullable = true)\n",
            " |-- vites: string (nullable = true)\n",
            " |-- ccm: string (nullable = true)\n",
            " |-- beygir_gucu: string (nullable = true)\n",
            " |-- renk: string (nullable = true)\n",
            " |-- kasa_tipi: string (nullable = true)\n",
            " |-- kimden: string (nullable = true)\n",
            " |-- durum: string (nullable = true)\n",
            " |-- km: integer (nullable = true)\n",
            " |-- fiyat: integer (nullable = true)\n",
            "\n"
          ],
          "name": "stdout"
        }
      ]
    },
    {
      "cell_type": "markdown",
      "metadata": {
        "id": "DmVggAmyPI03"
      },
      "source": [
        "SQL sorguları yapabilmek için dataset2 de olan değeri car adında bi ilişkisel veri tabanı tablosuna dönüşütürdük. Artık sql sorgularını yapabiliriz."
      ]
    },
    {
      "cell_type": "code",
      "metadata": {
        "id": "pw_CmLKzIeiM"
      },
      "source": [
        "dataset2.createOrReplaceTempView(\"car\")\r\n"
      ],
      "execution_count": 151,
      "outputs": []
    },
    {
      "cell_type": "code",
      "metadata": {
        "id": "o1vNAfNHIpqT"
      },
      "source": [
        "sorgu=spark.sql(\"select * from car\")"
      ],
      "execution_count": 152,
      "outputs": []
    },
    {
      "cell_type": "code",
      "metadata": {
        "colab": {
          "base_uri": "https://localhost:8080/"
        },
        "id": "rZQsfvqvI-1R",
        "outputId": "98b73158-1d94-4fa1-fa90-d1ef6589f547"
      },
      "source": [
        "sorgu.show()"
      ],
      "execution_count": 153,
      "outputs": [
        {
          "output_type": "stream",
          "text": [
            "+----------+------+-----------+-------------------+--------+----------+-------------------+---------------+--------------+-----------+----------------+----------+-----+------+------+\n",
            "|ilantarihi| marka|aractipgrup|            aractip|modelyil| yakitturu|              vites|            ccm|   beygir_gucu|       renk|       kasa_tipi|    kimden|durum|    km| fiyat|\n",
            "+----------+------+-----------+-------------------+--------+----------+-------------------+---------------+--------------+-----------+----------------+----------+-----+------+------+\n",
            "|27/05/2020|Jaguar|         XF|2.0 D Prestige Plus|  2017.0|     Dizel|     Otomatik Vites|   1801-2000 cc|    176-200 BG|  Lacivert |Hatchback 5 Kapı| Galeriden|2. El| 26100|634500|\n",
            "|16/06/2020| Acura|         CL|                  -|  2015.0|     Dizel|Yarı Otomatik Vites|   1301-1600 cc|    101-125 BG|      Mavi |           Sedan|Sahibinden|2. El|127000|151500|\n",
            "|14/06/2020| Acura|         CL|                2.2|  1994.0|Benzin/LPG|          Düz Vites|   1301-1600 cc|    101-125 BG|   Turkuaz |           Sedan|Sahibinden|2. El|175000| 19750|\n",
            "|11/06/2020| Acura|         CL|                  -|  2013.0|     Dizel|          Düz Vites|   1301-1600 cc|     76-100 BG|Kahverengi |           Sedan|Sahibinden|2. El|   325| 52000|\n",
            "|11/06/2020| Acura|         CL|                2.2|  2010.0|     Dizel|     Otomatik Vites|   1801-2000 cc|    151-175 BG|     Beyaz |           Sedan|Sahibinden|2. El|207000|148750|\n",
            "|04/06/2020| Acura|         CL|                2.2|  1999.0|     Dizel|          Düz Vites|   1801-2000 cc|    101-125 BG|  Lacivert |        Roadster| Galeriden|2. El|320000| 42500|\n",
            "|03/06/2020| Acura|         CL|                2.2|  2014.0|     Dizel|     Otomatik Vites|   1301-1600 cc|    101-125 BG|   Kırmızı |           Sedan| Galeriden|2. El|   183|170000|\n",
            "|02/06/2020| Acura|         CL|                  -|  2014.0|     Dizel|          Düz Vites|   1301-1600 cc|     76-100 BG|     Beyaz |Hatchback 5 Kapı|Sahibinden|2. El| 79000| 82500|\n",
            "|29/05/2020| Acura|        RSX|             Type-S|  2019.0|    Hibrit|     Otomatik Vites|   1601-1800 cc|100 BG ve altı|     Beyaz |           Sedan|   Yetkili| 0 km| 15662|189000|\n",
            "|29/05/2020| Acura|        RSX|             Type-S|  2019.0|    Hibrit|     Otomatik Vites|   1601-1800 cc|100 BG ve altı|       Gri |           Sedan|   Yetkili| 0 km| 31971|189000|\n",
            "|24/05/2020| Acura|         CL|                  -|  2001.0|Benzin/LPG|          Düz Vites|   1301-1600 cc|    101-125 BG|     Siyah |Hatchback 5 Kapı|Sahibinden|2. El|252000| 36750|\n",
            "|08/05/2020| Acura|         CL|                  -|  2010.0|     Dizel|          Düz Vites|1300 cc ve altı|     76-100 BG|       Gri |           Sedan| Galeriden|2. El|232000| 52000|\n",
            "|07/05/2020| Acura|         CL|                  -|  2014.0|     Dizel|          Düz Vites|   1301-1600 cc|     76-100 BG|     Siyah |Hatchback 5 Kapı|Sahibinden|2. El|168000| 84000|\n",
            "|27/04/2020| Acura|         CL|                  -|  2004.0|     Dizel|          Düz Vites|   1301-1600 cc|     76-100 BG|     Beyaz |Hatchback 5 Kapı| Galeriden|2. El|230000| 32000|\n",
            "|27/04/2020| Acura|         CL|                  -|  2004.0|Benzin/LPG|          Düz Vites|   1301-1600 cc|    101-125 BG|  Lacivert |           Sedan|Sahibinden|2. El| 18000| 34500|\n",
            "|24/04/2020| Acura|         CL|                  -|  2012.0|     Dizel|     Otomatik Vites|   1801-2000 cc|    201-225 BG|     Siyah |           Sedan| Galeriden|2. El|249000|235000|\n",
            "|23/04/2020| Acura|         CL|                  -|  2017.0|     Dizel|Yarı Otomatik Vites|   1301-1600 cc|     76-100 BG|      Füme |Hatchback 5 Kapı| Galeriden|2. El| 70000| 97500|\n",
            "|23/04/2020| Acura|         CL|                  -|  2013.0|     Dizel|     Otomatik Vites|   1801-2000 cc|    176-200 BG|     Siyah |           Sedan| Galeriden|2. El|210000|234900|\n",
            "|21/04/2020| Acura|         CL|                  -|  2004.0|Benzin/LPG|          Düz Vites|   1601-1800 cc|    126-150 BG|Kahverengi |           Sedan|Sahibinden|2. El|240000| 50000|\n",
            "|08/04/2020|  Jeep|   Wrangler|            2.8 CRD|  2014.0|     Dizel|     Otomatik Vites|   2501-3000 cc|    126-150 BG|     Siyah |     Arazi Aracı| Galeriden|2. El| 54000|457500|\n",
            "+----------+------+-----------+-------------------+--------+----------+-------------------+---------------+--------------+-----------+----------------+----------+-----+------+------+\n",
            "only showing top 20 rows\n",
            "\n"
          ],
          "name": "stdout"
        }
      ]
    },
    {
      "cell_type": "markdown",
      "metadata": {
        "id": "1iERfN52RRDY"
      },
      "source": [
        "Şimdi kolon kolon kaç farklı data girilmiş inceleyeceğiz, ilanlar girilirken bazı değerleri girilmeyen ilanları datasetimizden çıkaracağız."
      ]
    },
    {
      "cell_type": "markdown",
      "metadata": {
        "id": "u7SXuwjdpZbx"
      },
      "source": [
        "Markalarda null isminde bir data girilmiş. Aslında girilmeyen bir veri anlamında null ancak drop.na yaptığımda algılamadığı için bir veri olarak datasette yer ettiğini düşünüyorum."
      ]
    },
    {
      "cell_type": "code",
      "metadata": {
        "colab": {
          "base_uri": "https://localhost:8080/"
        },
        "id": "IvlTlqpyMojG",
        "outputId": "7632d721-1e78-48de-a50b-6e0f3113c211"
      },
      "source": [
        "markalar=spark.sql(\"select distinct marka from car\")\r\n",
        "markalar.count()"
      ],
      "execution_count": 158,
      "outputs": [
        {
          "output_type": "execute_result",
          "data": {
            "text/plain": [
              "37"
            ]
          },
          "metadata": {
            "tags": []
          },
          "execution_count": 158
        }
      ]
    },
    {
      "cell_type": "code",
      "metadata": {
        "colab": {
          "base_uri": "https://localhost:8080/"
        },
        "id": "eJRLAEVcM7gK",
        "outputId": "156fbdd6-d87e-43f7-897a-7c7853c1b87e"
      },
      "source": [
        "markalar.show()"
      ],
      "execution_count": 159,
      "outputs": [
        {
          "output_type": "stream",
          "text": [
            "+----------+\n",
            "|     marka|\n",
            "+----------+\n",
            "|Volkswagen|\n",
            "|  Infiniti|\n",
            "|   Peugeot|\n",
            "|    Jaguar|\n",
            "|  Maserati|\n",
            "|     Rover|\n",
            "|      Jeep|\n",
            "|Mitsubishi|\n",
            "|       Kia|\n",
            "|      Mini|\n",
            "|      null|\n",
            "| Chevrolet|\n",
            "|   Hyundai|\n",
            "|     Honda|\n",
            "|     Tofaş|\n",
            "|      Audi|\n",
            "|      Seat|\n",
            "|     Isuzu|\n",
            "|  Mercedes|\n",
            "|Land Rover|\n",
            "+----------+\n",
            "only showing top 20 rows\n",
            "\n"
          ],
          "name": "stdout"
        }
      ]
    },
    {
      "cell_type": "markdown",
      "metadata": {
        "id": "iNzlBUwTrQf6"
      },
      "source": [
        "AraçTip kolonunda '-' değeri girilen değerler görüyoruz bunların sayısına bakıyorum. daha sonrasında bu değeri içeren araçları kaldıracağız."
      ]
    },
    {
      "cell_type": "code",
      "metadata": {
        "colab": {
          "base_uri": "https://localhost:8080/"
        },
        "id": "E93yRfc5j5tN",
        "outputId": "6bdb5614-2604-4f2d-d7de-24e778ae2db1"
      },
      "source": [
        "aractip=spark.sql(\"select * from car where aractip='-'\")\r\n",
        "aractip.count()\r\n"
      ],
      "execution_count": 162,
      "outputs": [
        {
          "output_type": "execute_result",
          "data": {
            "text/plain": [
              "55"
            ]
          },
          "metadata": {
            "tags": []
          },
          "execution_count": 162
        }
      ]
    },
    {
      "cell_type": "markdown",
      "metadata": {
        "id": "GEKI9eQZrepV"
      },
      "source": [
        "Yakıt Türlerinde de null değeri var."
      ]
    },
    {
      "cell_type": "code",
      "metadata": {
        "colab": {
          "base_uri": "https://localhost:8080/"
        },
        "id": "cjHXw0QLrOk_",
        "outputId": "d22fe5f7-c2e4-4437-b4ae-e4406fc23be6"
      },
      "source": [
        "yakitturu=spark.sql(\"select distinct yakitturu from car\")\r\n",
        "yakitturu.show()"
      ],
      "execution_count": 163,
      "outputs": [
        {
          "output_type": "stream",
          "text": [
            "+----------+\n",
            "| yakitturu|\n",
            "+----------+\n",
            "|      null|\n",
            "|Benzin/LPG|\n",
            "|    Benzin|\n",
            "|    Hibrit|\n",
            "|  Elektrik|\n",
            "|     Dizel|\n",
            "+----------+\n",
            "\n"
          ],
          "name": "stdout"
        }
      ]
    },
    {
      "cell_type": "code",
      "metadata": {
        "colab": {
          "base_uri": "https://localhost:8080/"
        },
        "id": "FwFv82j_i5mJ",
        "outputId": "ecc11133-c122-4cb9-8135-be263fa0c6d7"
      },
      "source": [
        "vites=spark.sql(\"select distinct vites from car\")\r\n",
        "vites.show()"
      ],
      "execution_count": 164,
      "outputs": [
        {
          "output_type": "stream",
          "text": [
            "+-------------------+\n",
            "|              vites|\n",
            "+-------------------+\n",
            "|          Düz Vites|\n",
            "|               null|\n",
            "|Yarı Otomatik Vites|\n",
            "|     Otomatik Vites|\n",
            "+-------------------+\n",
            "\n"
          ],
          "name": "stdout"
        }
      ]
    },
    {
      "cell_type": "markdown",
      "metadata": {
        "id": "Y4OxlBPAryr-"
      },
      "source": [
        "ccm kolonunda istenemeyen null ve '-' değeri var."
      ]
    },
    {
      "cell_type": "code",
      "metadata": {
        "colab": {
          "base_uri": "https://localhost:8080/"
        },
        "id": "a7mUZr5Vrrkh",
        "outputId": "915603c1-198a-4e83-b118-46f29ad2d91d"
      },
      "source": [
        "ccm=spark.sql(\"select distinct ccm from car\")\r\n",
        "ccm.show()"
      ],
      "execution_count": 165,
      "outputs": [
        {
          "output_type": "stream",
          "text": [
            "+----------------+\n",
            "|             ccm|\n",
            "+----------------+\n",
            "|    1801-2000 cc|\n",
            "|    2001-2500 cc|\n",
            "|            null|\n",
            "|    1301-1600 cc|\n",
            "|    4001-4500 cc|\n",
            "| 1300 cc ve altı|\n",
            "|    5501-6000 cc|\n",
            "|               -|\n",
            "|    4501-5000 cc|\n",
            "|    1601-1800 cc|\n",
            "|      Bilmiyorum|\n",
            "|    5001-5500 cc|\n",
            "|6001 cc ve üzeri|\n",
            "|    3501-4000 cc|\n",
            "|    3001-3500 cc|\n",
            "|    2501-3000 cc|\n",
            "+----------------+\n",
            "\n"
          ],
          "name": "stdout"
        }
      ]
    },
    {
      "cell_type": "code",
      "metadata": {
        "colab": {
          "base_uri": "https://localhost:8080/"
        },
        "id": "o_qOXQ9Zr9Rt",
        "outputId": "d23675a1-c6d9-4a25-f04c-7be7950e3395"
      },
      "source": [
        "beygir_gucu=spark.sql(\"select distinct beygir_gucu from car\")\r\n",
        "beygir_gucu.show()"
      ],
      "execution_count": 166,
      "outputs": [
        {
          "output_type": "stream",
          "text": [
            "+---------------+\n",
            "|    beygir_gucu|\n",
            "+---------------+\n",
            "|     201-225 BG|\n",
            "|       51-75 BG|\n",
            "|           null|\n",
            "| 100 BG ve altı|\n",
            "|     451-475 BG|\n",
            "|     176-200 BG|\n",
            "|     376-400 BG|\n",
            "|     276-300 BG|\n",
            "|     326-350 BG|\n",
            "|              -|\n",
            "|     101-125 BG|\n",
            "|     251-275 BG|\n",
            "|     Bilmiyorum|\n",
            "|     301-325 BG|\n",
            "|     151-175 BG|\n",
            "|     126-150 BG|\n",
            "|  50 BG ve altı|\n",
            "|      76-100 BG|\n",
            "|     226-250 BG|\n",
            "|601 BG ve üzeri|\n",
            "+---------------+\n",
            "\n"
          ],
          "name": "stdout"
        }
      ]
    },
    {
      "cell_type": "code",
      "metadata": {
        "colab": {
          "base_uri": "https://localhost:8080/"
        },
        "id": "e5inj3NZsDLm",
        "outputId": "7dfa029b-83b0-49ad-a689-c9fa8c702187"
      },
      "source": [
        "renk=spark.sql(\"select distinct renk from car\")\r\n",
        "renk.show()"
      ],
      "execution_count": 167,
      "outputs": [
        {
          "output_type": "stream",
          "text": [
            "+-----------+\n",
            "|       renk|\n",
            "+-----------+\n",
            "|       Bej |\n",
            "|   Amarant |\n",
            "|Zeytin Gri |\n",
            "| Gümüş Gri |\n",
            "|     Diğer |\n",
            "|     Gümüş |\n",
            "|      Füme |\n",
            "|   Ihlamur |\n",
            "|     Bordo |\n",
            "|     Pembe |\n",
            "|       null|\n",
            "| Kum Rengi |\n",
            "|  Lacivert |\n",
            "|     Yeşil |\n",
            "|Kahverengi |\n",
            "|   Eflatun |\n",
            "|     Altın |\n",
            "| Bal Rengi |\n",
            "|   Turuncu |\n",
            "|       Mor |\n",
            "+-----------+\n",
            "only showing top 20 rows\n",
            "\n"
          ],
          "name": "stdout"
        }
      ]
    },
    {
      "cell_type": "code",
      "metadata": {
        "colab": {
          "base_uri": "https://localhost:8080/"
        },
        "id": "QKAckBghsWRN",
        "outputId": "657c401e-dfcf-4f64-a74f-0c59bb04ceae"
      },
      "source": [
        "kasa_tipi=spark.sql(\"select distinct kasa_tipi from car\")\r\n",
        "kasa_tipi.show()"
      ],
      "execution_count": 168,
      "outputs": [
        {
          "output_type": "stream",
          "text": [
            "+--------------------+\n",
            "|           kasa_tipi|\n",
            "+--------------------+\n",
            "|       Station Wagon|\n",
            "|           Crossover|\n",
            "|                 MPV|\n",
            "|                null|\n",
            "|               Sedan|\n",
            "|            Roadster|\n",
            "|         Arazi Aracı|\n",
            "|               Diğer|\n",
            "|Üstü Açık / Cabri...|\n",
            "|           Camlı Van|\n",
            "|    Hatchback 5 Kapı|\n",
            "|        Spor / Coupe|\n",
            "|             Minivan|\n",
            "|    Hatchback 3 Kapı|\n",
            "+--------------------+\n",
            "\n"
          ],
          "name": "stdout"
        }
      ]
    },
    {
      "cell_type": "code",
      "metadata": {
        "colab": {
          "base_uri": "https://localhost:8080/"
        },
        "id": "HpUdZDI2sWg3",
        "outputId": "aad5bab4-71a2-4289-846a-8a5689a0861b"
      },
      "source": [
        "kimden=spark.sql(\"select distinct kimden from car\")\r\n",
        "kimden.show()"
      ],
      "execution_count": 169,
      "outputs": [
        {
          "output_type": "stream",
          "text": [
            "+----------+\n",
            "|    kimden|\n",
            "+----------+\n",
            "| Galeriden|\n",
            "|Sahibinden|\n",
            "|      null|\n",
            "|   Yetkili|\n",
            "+----------+\n",
            "\n"
          ],
          "name": "stdout"
        }
      ]
    },
    {
      "cell_type": "code",
      "metadata": {
        "colab": {
          "base_uri": "https://localhost:8080/"
        },
        "id": "tLajsG7NsWqF",
        "outputId": "f14c7256-04b7-4863-eb3d-2b7c8a6e71eb"
      },
      "source": [
        "durum=spark.sql(\"select distinct durum from car\")\r\n",
        "durum.show()"
      ],
      "execution_count": 170,
      "outputs": [
        {
          "output_type": "stream",
          "text": [
            "+-------+\n",
            "|  durum|\n",
            "+-------+\n",
            "|   null|\n",
            "| Klasik|\n",
            "|  2. El|\n",
            "|   0 km|\n",
            "|Hasarlı|\n",
            "+-------+\n",
            "\n"
          ],
          "name": "stdout"
        }
      ]
    },
    {
      "cell_type": "markdown",
      "metadata": {
        "id": "TP4MQisPsnsu"
      },
      "source": [
        "Nerdeyse Tüm kolonlarda null ifadesi var. Beygir Gücü ve CCM kolonlarında olan '-' değerlerini gördük ve bunları kaldıracağız."
      ]
    },
    {
      "cell_type": "markdown",
      "metadata": {
        "id": "lMzfta6ouZnh"
      },
      "source": [
        "Pyspark Sql sorgularında delete from desteklenmediği için filter ile istenmeyen değerlerin olmadığı verileri sorgulayıp dataframe e atadım."
      ]
    },
    {
      "cell_type": "code",
      "metadata": {
        "colab": {
          "base_uri": "https://localhost:8080/"
        },
        "id": "ZO8JBhIPtMf4",
        "outputId": "c335c3e2-7f6a-4c6a-d373-bec7f32aa9e8"
      },
      "source": [
        "sorgu = sorgu.filter((sorgu.marka != 'null') & (sorgu.aractip != '-') & (sorgu.yakitturu != 'null') & (sorgu.vites != 'null') & \r\n",
        "                     (sorgu.ccm != 'null') & (sorgu.ccm != '-') & (sorgu.ccm != 'Bilmiyorum') & (sorgu.beygir_gucu != 'null') & (sorgu.beygir_gucu != '-') & \r\n",
        "                     (sorgu.renk != 'null') & (sorgu.kasa_tipi != 'null') & (sorgu.kimden != 'null') & (sorgu.durum != 'null'))\r\n",
        "sorgu.show()"
      ],
      "execution_count": 173,
      "outputs": [
        {
          "output_type": "stream",
          "text": [
            "+----------+------+-----------+-------------------+--------+----------+--------------+---------------+--------------+----------+----------------+----------+-----+------+------+\n",
            "|ilantarihi| marka|aractipgrup|            aractip|modelyil| yakitturu|         vites|            ccm|   beygir_gucu|      renk|       kasa_tipi|    kimden|durum|    km| fiyat|\n",
            "+----------+------+-----------+-------------------+--------+----------+--------------+---------------+--------------+----------+----------------+----------+-----+------+------+\n",
            "|27/05/2020|Jaguar|         XF|2.0 D Prestige Plus|  2017.0|     Dizel|Otomatik Vites|   1801-2000 cc|    176-200 BG| Lacivert |Hatchback 5 Kapı| Galeriden|2. El| 26100|634500|\n",
            "|14/06/2020| Acura|         CL|                2.2|  1994.0|Benzin/LPG|     Düz Vites|   1301-1600 cc|    101-125 BG|  Turkuaz |           Sedan|Sahibinden|2. El|175000| 19750|\n",
            "|11/06/2020| Acura|         CL|                2.2|  2010.0|     Dizel|Otomatik Vites|   1801-2000 cc|    151-175 BG|    Beyaz |           Sedan|Sahibinden|2. El|207000|148750|\n",
            "|04/06/2020| Acura|         CL|                2.2|  1999.0|     Dizel|     Düz Vites|   1801-2000 cc|    101-125 BG| Lacivert |        Roadster| Galeriden|2. El|320000| 42500|\n",
            "|03/06/2020| Acura|         CL|                2.2|  2014.0|     Dizel|Otomatik Vites|   1301-1600 cc|    101-125 BG|  Kırmızı |           Sedan| Galeriden|2. El|   183|170000|\n",
            "|29/05/2020| Acura|        RSX|             Type-S|  2019.0|    Hibrit|Otomatik Vites|   1601-1800 cc|100 BG ve altı|    Beyaz |           Sedan|   Yetkili| 0 km| 15662|189000|\n",
            "|29/05/2020| Acura|        RSX|             Type-S|  2019.0|    Hibrit|Otomatik Vites|   1601-1800 cc|100 BG ve altı|      Gri |           Sedan|   Yetkili| 0 km| 31971|189000|\n",
            "|08/04/2020|  Jeep|   Wrangler|            2.8 CRD|  2014.0|     Dizel|Otomatik Vites|   2501-3000 cc|    126-150 BG|    Siyah |     Arazi Aracı| Galeriden|2. El| 54000|457500|\n",
            "|20/04/2020| Acura|        RSX|             Type-S|  2019.0|    Hibrit|Otomatik Vites|   1601-1800 cc|100 BG ve altı|      Gri |           Diğer|   Yetkili| 0 km| 13500|175000|\n",
            "|20/04/2020| Acura|        RSX|             Type-S|  2019.0|    Hibrit|Otomatik Vites|   1601-1800 cc|100 BG ve altı|      Gri |           Diğer|   Yetkili| 0 km| 14000|175000|\n",
            "|20/04/2020| Acura|        RSX|             Type-S|  2019.0|    Hibrit|Otomatik Vites|   1601-1800 cc|    101-125 BG|     Mavi |           Sedan| Galeriden| 0 km| 29550|173900|\n",
            "|15/04/2020| Acura|        RSX|             Type-S|  2019.0|    Hibrit|Otomatik Vites|   1601-1800 cc|100 BG ve altı|    Diğer |           Diğer|   Yetkili| 0 km| 16563|179250|\n",
            "|15/04/2020| Acura|        RSX|             Type-S|  2019.0|    Hibrit|Otomatik Vites|   1601-1800 cc|100 BG ve altı|    Diğer |           Diğer|   Yetkili| 0 km| 11281|179250|\n",
            "|14/04/2020| Acura|         CL|                2.2|  2016.0|    Benzin|     Düz Vites|1300 cc ve altı|     76-100 BG|     Mavi |Hatchback 5 Kapı| Galeriden|2. El| 70000| 77500|\n",
            "|12/04/2020| Acura|         CL|              Diğer|  2012.0|     Dizel|     Düz Vites|   1601-1800 cc|100 BG ve altı|Gümüş Gri |           Sedan|Sahibinden|2. El| 99750| 86500|\n",
            "|09/04/2020| Acura|        RSX|             Type-S|  2019.0|    Hibrit|Otomatik Vites|   1601-1800 cc|100 BG ve altı|    Diğer |           Diğer|   Yetkili| 0 km| 11453|176750|\n",
            "|09/04/2020| Acura|        RSX|             Type-S|  2019.0|    Hibrit|Otomatik Vites|   1601-1800 cc|100 BG ve altı|    Siyah |           Diğer|   Yetkili| 0 km| 50943|186750|\n",
            "|08/04/2020| Acura|        RSX|             Type-S|  2019.0|    Hibrit|Otomatik Vites|   1601-1800 cc|100 BG ve altı|    Diğer |           Diğer|   Yetkili| 0 km| 11936|176750|\n",
            "|08/04/2020| Acura|        RSX|             Type-S|  2019.0|    Hibrit|Otomatik Vites|   1601-1800 cc|100 BG ve altı|    Diğer |           Diğer|   Yetkili| 0 km| 12840|176750|\n",
            "|08/04/2020| Acura|        RSX|             Type-S|  2019.0|    Hibrit|Otomatik Vites|   1601-1800 cc|100 BG ve altı|    Diğer |           Diğer|   Yetkili| 0 km| 10209|176750|\n",
            "+----------+------+-----------+-------------------+--------+----------+--------------+---------------+--------------+----------+----------------+----------+-----+------+------+\n",
            "only showing top 20 rows\n",
            "\n"
          ],
          "name": "stdout"
        }
      ]
    },
    {
      "cell_type": "markdown",
      "metadata": {
        "id": "stmCBm5U-VbE"
      },
      "source": [
        "Veri önişlemesinden geçirdikten sonra tablomuz üzerinde sql sorgular yapmak için tekrar createOrReplaceTempView işlemine tabi tutuyorum."
      ]
    },
    {
      "cell_type": "code",
      "metadata": {
        "id": "goe873XH1KaR"
      },
      "source": [
        "sorgu.createOrReplaceTempView(\"plot\")\r\n"
      ],
      "execution_count": 227,
      "outputs": []
    },
    {
      "cell_type": "markdown",
      "metadata": {
        "id": "jQFXgjDIQ4Oc"
      },
      "source": [
        "# ***VERİ GÖRSELLEŞTİRME***"
      ]
    },
    {
      "cell_type": "markdown",
      "metadata": {
        "id": "JkrO69rv_HSy"
      },
      "source": [
        "Veri Görselleştirme aşamasına geçtiğim için ilgili kütüphaneleri import ediyorum."
      ]
    },
    {
      "cell_type": "code",
      "metadata": {
        "id": "tCktKAOy-ycM"
      },
      "source": [
        "import matplotlib.pyplot as plt\r\n",
        "import seaborn as sns"
      ],
      "execution_count": 208,
      "outputs": []
    },
    {
      "cell_type": "markdown",
      "metadata": {
        "id": "z8BqVrP7Fy6t"
      },
      "source": [
        "**Model yıllarına göre ortalama fiyatlar**"
      ]
    },
    {
      "cell_type": "code",
      "metadata": {
        "colab": {
          "base_uri": "https://localhost:8080/"
        },
        "id": "44hy0AgV1PKH",
        "outputId": "5ede6159-7a40-40da-dc9e-ed2258e5a08f"
      },
      "source": [
        "modelavg=spark.sql(\"select modelyil, round(avg(fiyat)) as ortalama  from plot group by modelyil order by modelyil asc\")\r\n",
        "modelavg.show()"
      ],
      "execution_count": 194,
      "outputs": [
        {
          "output_type": "stream",
          "text": [
            "+--------+--------+\n",
            "|modelyil|ortalama|\n",
            "+--------+--------+\n",
            "|  1959.0| 42250.0|\n",
            "|  1961.0|590000.0|\n",
            "|  1976.0| 62133.0|\n",
            "|  1977.0| 75750.0|\n",
            "|  1978.0| 22250.0|\n",
            "|  1979.0| 51438.0|\n",
            "|  1981.0| 30083.0|\n",
            "|  1982.0| 66250.0|\n",
            "|  1983.0| 30038.0|\n",
            "|  1984.0| 27100.0|\n",
            "|  1985.0| 25821.0|\n",
            "|  1986.0| 31680.0|\n",
            "|  1987.0| 60450.0|\n",
            "|  1988.0| 35196.0|\n",
            "|  1989.0| 39125.0|\n",
            "|  1990.0| 20998.0|\n",
            "|  1991.0| 25869.0|\n",
            "|  1992.0| 18569.0|\n",
            "|  1993.0| 23175.0|\n",
            "|  1994.0| 23335.0|\n",
            "+--------+--------+\n",
            "only showing top 20 rows\n",
            "\n"
          ],
          "name": "stdout"
        }
      ]
    },
    {
      "cell_type": "code",
      "metadata": {
        "id": "MZGFBXZIzcLy"
      },
      "source": [
        "modelyil = modelavg.toPandas()[\"modelyil\"].values.tolist()\r\n",
        "ortalama = modelavg.toPandas()[\"ortalama\"].values.tolist()\r\n"
      ],
      "execution_count": 278,
      "outputs": []
    },
    {
      "cell_type": "markdown",
      "metadata": {
        "id": "eHQogZcwD0-N"
      },
      "source": [
        "Son model araçların fiyatlarında büyük bir fark gözüküyor"
      ]
    },
    {
      "cell_type": "code",
      "metadata": {
        "colab": {
          "base_uri": "https://localhost:8080/",
          "height": 281
        },
        "id": "CaDjWO9m3sIl",
        "outputId": "52da4bca-39f1-4afe-9faa-dc44fa26007c"
      },
      "source": [
        "plt.bar(modelyil,ortalama)\r\n",
        "plt.title(\"Modellere göre fiyat ortalaması\")\r\n",
        "plt.show()"
      ],
      "execution_count": 281,
      "outputs": [
        {
          "output_type": "display_data",
          "data": {
            "image/png": "[encoded data removed]",
            "text/plain": [
              "<Figure size 432x288 with 1 Axes>"
            ]
          },
          "metadata": {
            "tags": [],
            "needs_background": "light"
          }
        }
      ]
    },
    {
      "cell_type": "markdown",
      "metadata": {
        "id": "3I0thzyTF_03"
      },
      "source": [
        "**Markalara göre fiyatları inceliyorum**"
      ]
    },
    {
      "cell_type": "code",
      "metadata": {
        "colab": {
          "base_uri": "https://localhost:8080/"
        },
        "id": "eO3Qbc-7D_51",
        "outputId": "6c3d2e87-a937-40f5-fb34-1083485c75d8"
      },
      "source": [
        "markaavg=spark.sql(\"select marka, round(avg(fiyat)) as ortalama  from plot where group by marka order by marka asc\")\r\n",
        "markaavg.show()"
      ],
      "execution_count": 229,
      "outputs": [
        {
          "output_type": "stream",
          "text": [
            "+----------+--------+\n",
            "|     marka|ortalama|\n",
            "+----------+--------+\n",
            "|     Acura|141513.0|\n",
            "|Alfa Romeo|110962.0|\n",
            "|      Audi|262828.0|\n",
            "|       BMW|296008.0|\n",
            "| Chevrolet|101177.0|\n",
            "|  Chrysler| 94127.0|\n",
            "|   Citroen| 80653.0|\n",
            "|     Dacia| 93014.0|\n",
            "|      Fiat| 69971.0|\n",
            "|      Ford| 95538.0|\n",
            "|     Geely| 43250.0|\n",
            "|     Honda|109246.0|\n",
            "|   Hyundai| 99612.0|\n",
            "|  Infiniti|228390.0|\n",
            "|     Isuzu|119789.0|\n",
            "|    Jaguar|531438.0|\n",
            "|      Jeep|198877.0|\n",
            "|       Kia|118895.0|\n",
            "|      Lada| 22144.0|\n",
            "|Land Rover|598948.0|\n",
            "+----------+--------+\n",
            "only showing top 20 rows\n",
            "\n"
          ],
          "name": "stdout"
        }
      ]
    },
    {
      "cell_type": "code",
      "metadata": {
        "id": "qRP55-ZmE2Fn"
      },
      "source": [
        "marka = markaavg.toPandas()[\"marka\"].values.tolist()\r\n",
        "ortalama = markaavg.toPandas()[\"ortalama\"].values.tolist()\r\n"
      ],
      "execution_count": 230,
      "outputs": []
    },
    {
      "cell_type": "markdown",
      "metadata": {
        "id": "QMzcz9atGER6"
      },
      "source": [
        "Porsche markası en pahalı marka olarak gözükürken. En düşük fiyatlı araçlara sahip marka Tofaş olarak duruyor."
      ]
    },
    {
      "cell_type": "code",
      "metadata": {
        "colab": {
          "base_uri": "https://localhost:8080/",
          "height": 356
        },
        "id": "kzVCFrl2E_UQ",
        "outputId": "e53cf989-cf73-4ac1-f642-5ae631702953"
      },
      "source": [
        "plt.figure(figsize=(30,5))\r\n",
        "plt.bar(marka,ortalama)\r\n",
        "plt.title(\"Markalara göre fiyat ortalaması\")\r\n",
        "plt.show()"
      ],
      "execution_count": 236,
      "outputs": [
        {
          "output_type": "display_data",
          "data": {
            "image/png": "[encoded data removed]",
            "text/plain": [
              "<Figure size 2160x360 with 1 Axes>"
            ]
          },
          "metadata": {
            "tags": [],
            "needs_background": "light"
          }
        }
      ]
    },
    {
      "cell_type": "markdown",
      "metadata": {
        "id": "-NEfDu7aJNFd"
      },
      "source": [
        "**Yakıt Türüne Göre Fiyat Ortalamaları**"
      ]
    },
    {
      "cell_type": "code",
      "metadata": {
        "colab": {
          "base_uri": "https://localhost:8080/",
          "height": 336
        },
        "id": "Ks3somE7Ikv8",
        "outputId": "f53d53b6-e609-4333-ea54-d6d11c46a6e2"
      },
      "source": [
        "yakitavg=spark.sql(\"select yakitturu, round(avg(fiyat)) as ortalama  from plot where group by yakitturu\")\r\n",
        "yakit = yakitavg.toPandas()[\"yakitturu\"].values.tolist()\r\n",
        "ortalama = yakitavg.toPandas()[\"ortalama\"].values.tolist()\r\n",
        "plt.figure(figsize=(10,5))\r\n",
        "plt.bar(yakit,ortalama)\r\n",
        "plt.title(\"Yakıt Türüne göre fiyat ortalaması\")\r\n",
        "plt.show()"
      ],
      "execution_count": 248,
      "outputs": [
        {
          "output_type": "display_data",
          "data": {
            "image/png": "[encoded data removed]",
            "text/plain": [
              "<Figure size 720x360 with 1 Axes>"
            ]
          },
          "metadata": {
            "tags": [],
            "needs_background": "light"
          }
        }
      ]
    },
    {
      "cell_type": "markdown",
      "metadata": {
        "id": "DYbFAWlsJTTA"
      },
      "source": [
        "Hibrit ve Elektrikli araçlar değerli gözüküyorlar."
      ]
    },
    {
      "cell_type": "markdown",
      "metadata": {
        "id": "r32PfKoAJtl1"
      },
      "source": [
        "**Vites Türlerine Göre Fiyat Ortalamaları**"
      ]
    },
    {
      "cell_type": "code",
      "metadata": {
        "colab": {
          "base_uri": "https://localhost:8080/",
          "height": 336
        },
        "id": "sn7N1ZDzJZfD",
        "outputId": "29d62105-cdad-47e9-8b5d-d449f803719c"
      },
      "source": [
        "vitesavg=spark.sql(\"select vites, round(avg(fiyat)) as ortalama  from plot where group by vites\")\r\n",
        "vites = vitesavg.toPandas()[\"vites\"].values.tolist()\r\n",
        "ortalama = vitesavg.toPandas()[\"ortalama\"].values.tolist()\r\n",
        "plt.figure(figsize=(10,5))\r\n",
        "plt.bar(vites,ortalama)\r\n",
        "plt.title(\"Vites Türüne göre fiyat ortalaması\")\r\n",
        "plt.show()"
      ],
      "execution_count": 250,
      "outputs": [
        {
          "output_type": "display_data",
          "data": {
            "image/png": "[encoded data removed]",
            "text/plain": [
              "<Figure size 720x360 with 1 Axes>"
            ]
          },
          "metadata": {
            "tags": [],
            "needs_background": "light"
          }
        }
      ]
    },
    {
      "cell_type": "code",
      "metadata": {
        "id": "jPAJBwLNJxIM"
      },
      "source": [
        "Otomatik Vites araçların fiyatı daha pahalı gözüküyor grafikte."
      ],
      "execution_count": null,
      "outputs": []
    },
    {
      "cell_type": "markdown",
      "metadata": {
        "id": "ZzYAwx8pKVXz"
      },
      "source": [
        "**Renklere Göre Fiyat Ortalaması**"
      ]
    },
    {
      "cell_type": "code",
      "metadata": {
        "colab": {
          "base_uri": "https://localhost:8080/",
          "height": 398
        },
        "id": "GAAK49tPJ5Lb",
        "outputId": "4108c2cb-4555-4bc9-ffe4-e21af8acf17a"
      },
      "source": [
        "renkavg=spark.sql(\"select renk, round(avg(fiyat)) as ortalama  from plot where group by renk\")\r\n",
        "renk = renkavg.toPandas()[\"renk\"].values.tolist()\r\n",
        "ortalama = renkavg.toPandas()[\"ortalama\"].values.tolist()\r\n",
        "plt.figure(figsize=(28,8))\r\n",
        "plt.bar(renk,ortalama)\r\n",
        "plt.title(\"Renklere göre fiyat ortalaması\")\r\n",
        "plt.show()"
      ],
      "execution_count": 253,
      "outputs": [
        {
          "output_type": "display_data",
          "data": {
            "image/png": "[encoded data removed]",
            "text/plain": [
              "<Figure size 2016x576 with 1 Axes>"
            ]
          },
          "metadata": {
            "tags": [],
            "needs_background": "light"
          }
        }
      ]
    },
    {
      "cell_type": "markdown",
      "metadata": {
        "id": "DYok9S5ZKUpv"
      },
      "source": [
        "Siyah araçların fiyatları açık ara farkla daha yüksek gözüküyor. Kırmızı olsun üç kuruş fazla olsun deyimi 2020 senesinde çok geçerli olduğunu söyleyemeyiz."
      ]
    },
    {
      "cell_type": "markdown",
      "metadata": {
        "id": "Px8fFkghPEnC"
      },
      "source": [
        "**Markalara Göre Verilen İlan Sayıları**"
      ]
    },
    {
      "cell_type": "code",
      "metadata": {
        "colab": {
          "base_uri": "https://localhost:8080/",
          "height": 357
        },
        "id": "25wJEVe2LFn6",
        "outputId": "634597cd-06e6-454e-f9e6-25023d2e9177"
      },
      "source": [
        "markacount=spark.sql(\"select marka, count(*) as sayi  from plot where  group by marka\")\r\n",
        "marka = markacount.toPandas()[\"marka\"].values.tolist()\r\n",
        "count = markacount.toPandas()[\"sayi\"].values.tolist()\r\n",
        "plt.figure(figsize=(30,5))\r\n",
        "plt.bar(marka,count)\r\n",
        "plt.title(\"Markalara göre İlan Sayısı\")\r\n",
        "plt.show()"
      ],
      "execution_count": 273,
      "outputs": [
        {
          "output_type": "display_data",
          "data": {
            "image/png": "[encoded data removed]",
            "text/plain": [
              "<Figure size 2160x360 with 1 Axes>"
            ]
          },
          "metadata": {
            "tags": [],
            "needs_background": "light"
          }
        }
      ]
    },
    {
      "cell_type": "markdown",
      "metadata": {
        "id": "dJW-9V3LPP-E"
      },
      "source": [
        "Renault Markası çok çok açık farkla verilen ilan sayısında 2020 yılında oldukça önde."
      ]
    },
    {
      "cell_type": "markdown",
      "metadata": {
        "id": "_IqAHpILPs6q"
      },
      "source": [
        "**Satıcıya Göre Araç Sayıları**"
      ]
    },
    {
      "cell_type": "code",
      "metadata": {
        "colab": {
          "base_uri": "https://localhost:8080/",
          "height": 337
        },
        "id": "r82hGa3aPcnx",
        "outputId": "eb4a1809-3838-426a-93e4-7abc6133aced"
      },
      "source": [
        "kimdencount=spark.sql(\"select kimden, count(*) as sayi  from plot where  group by kimden\")\r\n",
        "kimden = kimdencount.toPandas()[\"kimden\"].values.tolist()\r\n",
        "count = kimdencount.toPandas()[\"sayi\"].values.tolist()\r\n",
        "plt.figure(figsize=(5,5))\r\n",
        "plt.bar(kimden,count)\r\n",
        "plt.title(\"Satıcıya göre İlan Sayısı\")\r\n",
        "plt.show()"
      ],
      "execution_count": 275,
      "outputs": [
        {
          "output_type": "display_data",
          "data": {
            "image/png": "[encoded data removed]",
            "text/plain": [
              "<Figure size 360x360 with 1 Axes>"
            ]
          },
          "metadata": {
            "tags": [],
            "needs_background": "light"
          }
        }
      ]
    }
  ]
}